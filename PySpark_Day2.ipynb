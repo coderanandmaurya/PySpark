{
  "nbformat": 4,
  "nbformat_minor": 0,
  "metadata": {
    "colab": {
      "provenance": [],
      "authorship_tag": "ABX9TyPO7lI09TrgRrSHAIgHgRJw",
      "include_colab_link": true
    },
    "kernelspec": {
      "name": "python3",
      "display_name": "Python 3"
    },
    "language_info": {
      "name": "python"
    }
  },
  "cells": [
    {
      "cell_type": "markdown",
      "metadata": {
        "id": "view-in-github",
        "colab_type": "text"
      },
      "source": [
        "<a href=\"https://colab.research.google.com/github/coderanandmaurya/PySpark/blob/main/PySpark_Day2.ipynb\" target=\"_parent\"><img src=\"https://colab.research.google.com/assets/colab-badge.svg\" alt=\"Open In Colab\"/></a>"
      ]
    },
    {
      "cell_type": "code",
      "execution_count": 1,
      "metadata": {
        "id": "UkyAxGEtiizG"
      },
      "outputs": [],
      "source": [
        "from pyspark.sql import SparkSession"
      ]
    },
    {
      "cell_type": "code",
      "source": [
        "ps=SparkSession.builder.appName('day2').getOrCreate()"
      ],
      "metadata": {
        "id": "0OWh23jojCuz"
      },
      "execution_count": 2,
      "outputs": []
    },
    {
      "cell_type": "code",
      "source": [
        "ps"
      ],
      "metadata": {
        "colab": {
          "base_uri": "https://localhost:8080/",
          "height": 219
        },
        "id": "tghtfh1OjGiB",
        "outputId": "2c7d21bd-bb81-468d-aca2-3684648814cb"
      },
      "execution_count": 3,
      "outputs": [
        {
          "output_type": "execute_result",
          "data": {
            "text/plain": [
              "<pyspark.sql.session.SparkSession at 0x7ceb1a4c9f50>"
            ],
            "text/html": [
              "\n",
              "            <div>\n",
              "                <p><b>SparkSession - in-memory</b></p>\n",
              "                \n",
              "        <div>\n",
              "            <p><b>SparkContext</b></p>\n",
              "\n",
              "            <p><a href=\"http://8705b2137d85:4040\">Spark UI</a></p>\n",
              "\n",
              "            <dl>\n",
              "              <dt>Version</dt>\n",
              "                <dd><code>v3.5.5</code></dd>\n",
              "              <dt>Master</dt>\n",
              "                <dd><code>local[*]</code></dd>\n",
              "              <dt>AppName</dt>\n",
              "                <dd><code>day2</code></dd>\n",
              "            </dl>\n",
              "        </div>\n",
              "        \n",
              "            </div>\n",
              "        "
            ]
          },
          "metadata": {},
          "execution_count": 3
        }
      ]
    },
    {
      "cell_type": "code",
      "source": [
        "df=ps.read.csv('/content/Day2_Spark_Data.csv',header=True,inferSchema=True)"
      ],
      "metadata": {
        "id": "hLHokSTZjJlw"
      },
      "execution_count": 5,
      "outputs": []
    },
    {
      "cell_type": "code",
      "source": [
        "df.show()"
      ],
      "metadata": {
        "colab": {
          "base_uri": "https://localhost:8080/"
        },
        "id": "kdQEZNpMjU9m",
        "outputId": "33341b14-3680-42b1-de49-c66acc77be77"
      },
      "execution_count": 6,
      "outputs": [
        {
          "output_type": "stream",
          "name": "stdout",
          "text": [
            "+-----+----+----+-------+\n",
            "| NAME|CGPA| PKG| course|\n",
            "+-----+----+----+-------+\n",
            "|sahil|   9|  10|    BCA|\n",
            "| aman|   8|   9|   NULL|\n",
            "|jerry|   6|   6|B.Tech.|\n",
            "|raman|   7|NULL|    BCA|\n",
            "|mohan|NULL|   6|B.Tech.|\n",
            "+-----+----+----+-------+\n",
            "\n"
          ]
        }
      ]
    },
    {
      "cell_type": "code",
      "source": [
        "#drop col\n",
        "df.drop('Name').show()"
      ],
      "metadata": {
        "colab": {
          "base_uri": "https://localhost:8080/"
        },
        "id": "0D2cGDMtjZot",
        "outputId": "a7306471-2508-4dda-d22c-9f445ddeb371"
      },
      "execution_count": 7,
      "outputs": [
        {
          "output_type": "stream",
          "name": "stdout",
          "text": [
            "+----+----+-------+\n",
            "|CGPA| PKG| course|\n",
            "+----+----+-------+\n",
            "|   9|  10|    BCA|\n",
            "|   8|   9|   NULL|\n",
            "|   6|   6|B.Tech.|\n",
            "|   7|NULL|    BCA|\n",
            "|NULL|   6|B.Tech.|\n",
            "+----+----+-------+\n",
            "\n"
          ]
        }
      ]
    },
    {
      "cell_type": "code",
      "source": [
        "df.show()"
      ],
      "metadata": {
        "colab": {
          "base_uri": "https://localhost:8080/"
        },
        "id": "BkllSMhGjd9w",
        "outputId": "9b964685-5969-4abc-e3f6-a3530b5798aa"
      },
      "execution_count": 8,
      "outputs": [
        {
          "output_type": "stream",
          "name": "stdout",
          "text": [
            "+-----+----+----+-------+\n",
            "| NAME|CGPA| PKG| course|\n",
            "+-----+----+----+-------+\n",
            "|sahil|   9|  10|    BCA|\n",
            "| aman|   8|   9|   NULL|\n",
            "|jerry|   6|   6|B.Tech.|\n",
            "|raman|   7|NULL|    BCA|\n",
            "|mohan|NULL|   6|B.Tech.|\n",
            "+-----+----+----+-------+\n",
            "\n"
          ]
        }
      ]
    },
    {
      "cell_type": "code",
      "source": [
        "#droping Nan Values\n",
        "df.na.drop().show()"
      ],
      "metadata": {
        "colab": {
          "base_uri": "https://localhost:8080/"
        },
        "id": "YlEaOFF1jgVc",
        "outputId": "d76efffe-3e4b-4abe-b1ac-d8aee25f7c23"
      },
      "execution_count": 11,
      "outputs": [
        {
          "output_type": "stream",
          "name": "stdout",
          "text": [
            "+-----+----+---+-------+\n",
            "| NAME|CGPA|PKG| course|\n",
            "+-----+----+---+-------+\n",
            "|sahil|   9| 10|    BCA|\n",
            "|jerry|   6|  6|B.Tech.|\n",
            "+-----+----+---+-------+\n",
            "\n"
          ]
        }
      ]
    },
    {
      "cell_type": "code",
      "source": [
        "df.na.drop(how='any').show() #any=any null or all all row is null"
      ],
      "metadata": {
        "colab": {
          "base_uri": "https://localhost:8080/"
        },
        "id": "q5Y2zm__jrWw",
        "outputId": "854d00fc-caa8-44e0-d279-3795e4b43779"
      },
      "execution_count": 12,
      "outputs": [
        {
          "output_type": "stream",
          "name": "stdout",
          "text": [
            "+-----+----+---+-------+\n",
            "| NAME|CGPA|PKG| course|\n",
            "+-----+----+---+-------+\n",
            "|sahil|   9| 10|    BCA|\n",
            "|jerry|   6|  6|B.Tech.|\n",
            "+-----+----+---+-------+\n",
            "\n"
          ]
        }
      ]
    },
    {
      "cell_type": "code",
      "source": [
        "df.na.drop(how='all').show()"
      ],
      "metadata": {
        "colab": {
          "base_uri": "https://localhost:8080/"
        },
        "id": "WjzVLCMQkOkh",
        "outputId": "60e23362-e1b1-4f2e-a309-64917af37f72"
      },
      "execution_count": 13,
      "outputs": [
        {
          "output_type": "stream",
          "name": "stdout",
          "text": [
            "+-----+----+----+-------+\n",
            "| NAME|CGPA| PKG| course|\n",
            "+-----+----+----+-------+\n",
            "|sahil|   9|  10|    BCA|\n",
            "| aman|   8|   9|   NULL|\n",
            "|jerry|   6|   6|B.Tech.|\n",
            "|raman|   7|NULL|    BCA|\n",
            "|mohan|NULL|   6|B.Tech.|\n",
            "+-----+----+----+-------+\n",
            "\n"
          ]
        }
      ]
    },
    {
      "cell_type": "code",
      "source": [
        "df.na.drop(thresh=2).show() #atleast 2 non null values"
      ],
      "metadata": {
        "colab": {
          "base_uri": "https://localhost:8080/"
        },
        "id": "n-HikwxjkUrl",
        "outputId": "cbc258b2-56c9-49a9-fa38-1d9df563303c"
      },
      "execution_count": 14,
      "outputs": [
        {
          "output_type": "stream",
          "name": "stdout",
          "text": [
            "+-----+----+----+-------+\n",
            "| NAME|CGPA| PKG| course|\n",
            "+-----+----+----+-------+\n",
            "|sahil|   9|  10|    BCA|\n",
            "| aman|   8|   9|   NULL|\n",
            "|jerry|   6|   6|B.Tech.|\n",
            "|raman|   7|NULL|    BCA|\n",
            "|mohan|NULL|   6|B.Tech.|\n",
            "+-----+----+----+-------+\n",
            "\n"
          ]
        }
      ]
    },
    {
      "cell_type": "code",
      "source": [
        "#subset\n",
        "df.na.drop(subset=['CGPA']).show()"
      ],
      "metadata": {
        "colab": {
          "base_uri": "https://localhost:8080/"
        },
        "id": "dR25TQ5Vkbbm",
        "outputId": "b5a62250-5169-437a-91ad-1b628f170075"
      },
      "execution_count": 16,
      "outputs": [
        {
          "output_type": "stream",
          "name": "stdout",
          "text": [
            "+-----+----+----+-------+\n",
            "| NAME|CGPA| PKG| course|\n",
            "+-----+----+----+-------+\n",
            "|sahil|   9|  10|    BCA|\n",
            "| aman|   8|   9|   NULL|\n",
            "|jerry|   6|   6|B.Tech.|\n",
            "|raman|   7|NULL|    BCA|\n",
            "+-----+----+----+-------+\n",
            "\n"
          ]
        }
      ]
    },
    {
      "cell_type": "code",
      "source": [
        "# filling Missing Value\n",
        "df.na.fill('Missing','course').show() #parameter (value,subset)"
      ],
      "metadata": {
        "colab": {
          "base_uri": "https://localhost:8080/"
        },
        "id": "DSWeEpnzkphf",
        "outputId": "ed9b96e9-08e1-421c-e5c5-c0c2d2b55dcd"
      },
      "execution_count": 22,
      "outputs": [
        {
          "output_type": "stream",
          "name": "stdout",
          "text": [
            "+-----+----+----+-------+\n",
            "| NAME|CGPA| PKG| course|\n",
            "+-----+----+----+-------+\n",
            "|sahil|   9|  10|    BCA|\n",
            "| aman|   8|   9|Missing|\n",
            "|jerry|   6|   6|B.Tech.|\n",
            "|raman|   7|NULL|    BCA|\n",
            "|mohan|NULL|   6|B.Tech.|\n",
            "+-----+----+----+-------+\n",
            "\n"
          ]
        }
      ]
    },
    {
      "cell_type": "code",
      "source": [
        "#fill nan value in PKG\n",
        "df.na.fill(0,'PKG').show()"
      ],
      "metadata": {
        "colab": {
          "base_uri": "https://localhost:8080/"
        },
        "id": "J4EMsXdQkwSh",
        "outputId": "1d6510e2-7744-40d3-dfc8-8c7a05411149"
      },
      "execution_count": 24,
      "outputs": [
        {
          "output_type": "stream",
          "name": "stdout",
          "text": [
            "+-----+----+---+-------+\n",
            "| NAME|CGPA|PKG| course|\n",
            "+-----+----+---+-------+\n",
            "|sahil|   9| 10|    BCA|\n",
            "| aman|   8|  9|   NULL|\n",
            "|jerry|   6|  6|B.Tech.|\n",
            "|raman|   7|  0|    BCA|\n",
            "|mohan|NULL|  6|B.Tech.|\n",
            "+-----+----+---+-------+\n",
            "\n"
          ]
        }
      ]
    },
    {
      "cell_type": "code",
      "source": [
        "#using Simple Imputer\n",
        "from pyspark.ml.feature import Imputer\n",
        "\n",
        "Imputer=Imputer(\n",
        "    inputCols=['PKG','CGPA'],\n",
        "    outputCols=[\"{}_imputed\".format(c) for c in ['PKG','CGPA']]\n",
        ").setStrategy('mean')  #mean,median"
      ],
      "metadata": {
        "id": "aPnKYeUJlVfU"
      },
      "execution_count": 25,
      "outputs": []
    },
    {
      "cell_type": "code",
      "source": [
        "Imputer.fit(df).transform(df).show()"
      ],
      "metadata": {
        "colab": {
          "base_uri": "https://localhost:8080/"
        },
        "id": "DEbtr086llU9",
        "outputId": "7e84bc93-a19e-4e46-cbc7-c264d8b48b5a"
      },
      "execution_count": 26,
      "outputs": [
        {
          "output_type": "stream",
          "name": "stdout",
          "text": [
            "+-----+----+----+-------+-----------+------------+\n",
            "| NAME|CGPA| PKG| course|PKG_imputed|CGPA_imputed|\n",
            "+-----+----+----+-------+-----------+------------+\n",
            "|sahil|   9|  10|    BCA|         10|           9|\n",
            "| aman|   8|   9|   NULL|          9|           8|\n",
            "|jerry|   6|   6|B.Tech.|          6|           6|\n",
            "|raman|   7|NULL|    BCA|          7|           7|\n",
            "|mohan|NULL|   6|B.Tech.|          6|           7|\n",
            "+-----+----+----+-------+-----------+------------+\n",
            "\n"
          ]
        }
      ]
    },
    {
      "cell_type": "code",
      "source": [
        "#Filter Operation\n",
        "# <,>&,|,==,~\n",
        "#student having cgpa 8 or higher having\n",
        "df.filter('CGPA>=8').show()"
      ],
      "metadata": {
        "colab": {
          "base_uri": "https://localhost:8080/"
        },
        "id": "HJ2vx-TllofJ",
        "outputId": "41e61dfc-e83b-46a5-feb5-c84309253847"
      },
      "execution_count": 30,
      "outputs": [
        {
          "output_type": "stream",
          "name": "stdout",
          "text": [
            "+-----+----+---+------+\n",
            "| NAME|CGPA|PKG|course|\n",
            "+-----+----+---+------+\n",
            "|sahil|   9| 10|   BCA|\n",
            "| aman|   8|  9|  NULL|\n",
            "+-----+----+---+------+\n",
            "\n"
          ]
        }
      ]
    },
    {
      "cell_type": "code",
      "source": [
        "# for specific col name, CGPA\n",
        "df.filter('CGPA>=8').select(['Name','CGPA']).show()"
      ],
      "metadata": {
        "colab": {
          "base_uri": "https://localhost:8080/"
        },
        "id": "KIYMLesTl9Cr",
        "outputId": "1b404abf-7dff-43cd-b221-529912f54820"
      },
      "execution_count": 32,
      "outputs": [
        {
          "output_type": "stream",
          "name": "stdout",
          "text": [
            "+-----+----+\n",
            "| Name|CGPA|\n",
            "+-----+----+\n",
            "|sahil|   9|\n",
            "| aman|   8|\n",
            "+-----+----+\n",
            "\n"
          ]
        }
      ]
    },
    {
      "cell_type": "code",
      "source": [
        "# two condition\n",
        "df.filter((df['CGPA']>=8) & (df['PKG']>8)).show()"
      ],
      "metadata": {
        "colab": {
          "base_uri": "https://localhost:8080/"
        },
        "id": "-323WPKQmrRK",
        "outputId": "c06d021d-02c3-46fe-80c2-468e11dedc23"
      },
      "execution_count": 33,
      "outputs": [
        {
          "output_type": "stream",
          "name": "stdout",
          "text": [
            "+-----+----+---+------+\n",
            "| NAME|CGPA|PKG|course|\n",
            "+-----+----+---+------+\n",
            "|sahil|   9| 10|   BCA|\n",
            "| aman|   8|  9|  NULL|\n",
            "+-----+----+---+------+\n",
            "\n"
          ]
        }
      ]
    },
    {
      "cell_type": "code",
      "source": [
        "# inverse condition\n",
        "df.filter(~(df['CGPA']>=8)).show()"
      ],
      "metadata": {
        "colab": {
          "base_uri": "https://localhost:8080/"
        },
        "id": "8OAdx9p5m4q-",
        "outputId": "22a88d4e-c00e-4e21-c1da-82c732bc1bee"
      },
      "execution_count": 34,
      "outputs": [
        {
          "output_type": "stream",
          "name": "stdout",
          "text": [
            "+-----+----+----+-------+\n",
            "| NAME|CGPA| PKG| course|\n",
            "+-----+----+----+-------+\n",
            "|jerry|   6|   6|B.Tech.|\n",
            "|raman|   7|NULL|    BCA|\n",
            "+-----+----+----+-------+\n",
            "\n"
          ]
        }
      ]
    },
    {
      "cell_type": "code",
      "source": [
        "# Group by and aggregate function\n",
        "df.groupBy('course').sum().show()"
      ],
      "metadata": {
        "colab": {
          "base_uri": "https://localhost:8080/"
        },
        "id": "sCXBcqUanEkw",
        "outputId": "66a77886-3849-41a6-95ab-f31ea0de94fd"
      },
      "execution_count": 43,
      "outputs": [
        {
          "output_type": "stream",
          "name": "stdout",
          "text": [
            "+-------+---------+--------+\n",
            "| course|sum(CGPA)|sum(PKG)|\n",
            "+-------+---------+--------+\n",
            "|   NULL|        8|       9|\n",
            "|B.Tech.|        6|      12|\n",
            "|    BCA|       16|      10|\n",
            "+-------+---------+--------+\n",
            "\n"
          ]
        }
      ]
    },
    {
      "cell_type": "code",
      "source": [
        "df.groupBy('Name')"
      ],
      "metadata": {
        "colab": {
          "base_uri": "https://localhost:8080/"
        },
        "id": "xCBtIpjAnc0j",
        "outputId": "46993717-dd92-45a4-c630-92decf08284a"
      },
      "execution_count": 36,
      "outputs": [
        {
          "output_type": "execute_result",
          "data": {
            "text/plain": [
              "GroupedData[grouping expressions: [Name], value: [NAME: string, CGPA: int ... 2 more fields], type: GroupBy]"
            ]
          },
          "metadata": {},
          "execution_count": 36
        }
      ]
    },
    {
      "cell_type": "code",
      "source": [
        "df.groupBy('Name').sum().show()"
      ],
      "metadata": {
        "colab": {
          "base_uri": "https://localhost:8080/"
        },
        "id": "A72oUYIZnmZ3",
        "outputId": "6b48bc52-b309-4315-a5d2-6dbbc74d3f1f"
      },
      "execution_count": 39,
      "outputs": [
        {
          "output_type": "stream",
          "name": "stdout",
          "text": [
            "+-----+---------+--------+\n",
            "| Name|sum(CGPA)|sum(PKG)|\n",
            "+-----+---------+--------+\n",
            "|mohan|     NULL|       6|\n",
            "|jerry|        6|       6|\n",
            "|raman|        7|    NULL|\n",
            "|sahil|        9|      10|\n",
            "| aman|        8|       9|\n",
            "+-----+---------+--------+\n",
            "\n"
          ]
        }
      ]
    },
    {
      "cell_type": "code",
      "source": [
        "# group by course having max PKG\n",
        "df.groupBy('course').max().show()"
      ],
      "metadata": {
        "colab": {
          "base_uri": "https://localhost:8080/"
        },
        "id": "9GsL6YCJnuYz",
        "outputId": "936ae412-ab05-41cd-cf5d-19ca3167e4c1"
      },
      "execution_count": 41,
      "outputs": [
        {
          "output_type": "stream",
          "name": "stdout",
          "text": [
            "+-------+---------+--------+\n",
            "| course|max(CGPA)|max(PKG)|\n",
            "+-------+---------+--------+\n",
            "|   NULL|        8|       9|\n",
            "|B.Tech.|        6|       6|\n",
            "|    BCA|        9|      10|\n",
            "+-------+---------+--------+\n",
            "\n"
          ]
        }
      ]
    },
    {
      "cell_type": "code",
      "source": [
        "# mean of pkg\n",
        "df.groupBy('course').mean().show()"
      ],
      "metadata": {
        "colab": {
          "base_uri": "https://localhost:8080/"
        },
        "id": "7buuu4F_oGq9",
        "outputId": "69752edb-3662-4f82-d058-c4895684b2ee"
      },
      "execution_count": 44,
      "outputs": [
        {
          "output_type": "stream",
          "name": "stdout",
          "text": [
            "+-------+---------+--------+\n",
            "| course|avg(CGPA)|avg(PKG)|\n",
            "+-------+---------+--------+\n",
            "|   NULL|      8.0|     9.0|\n",
            "|B.Tech.|      6.0|     6.0|\n",
            "|    BCA|      8.0|    10.0|\n",
            "+-------+---------+--------+\n",
            "\n"
          ]
        }
      ]
    },
    {
      "cell_type": "code",
      "source": [
        "# count\n",
        "df.groupBy('course').count().show()"
      ],
      "metadata": {
        "colab": {
          "base_uri": "https://localhost:8080/"
        },
        "id": "7R9NwCe6ofbV",
        "outputId": "3368f562-a954-4425-d3bf-61340b1a17e0"
      },
      "execution_count": 45,
      "outputs": [
        {
          "output_type": "stream",
          "name": "stdout",
          "text": [
            "+-------+-----+\n",
            "| course|count|\n",
            "+-------+-----+\n",
            "|   NULL|    1|\n",
            "|B.Tech.|    2|\n",
            "|    BCA|    2|\n",
            "+-------+-----+\n",
            "\n"
          ]
        }
      ]
    },
    {
      "cell_type": "code",
      "source": [
        "df.agg({'PKG':'sum'}).show()"
      ],
      "metadata": {
        "colab": {
          "base_uri": "https://localhost:8080/"
        },
        "id": "ZNX60JItojty",
        "outputId": "5746f42d-6b3b-4178-8e54-4bf5afb2a7dd"
      },
      "execution_count": 46,
      "outputs": [
        {
          "output_type": "stream",
          "name": "stdout",
          "text": [
            "+--------+\n",
            "|sum(PKG)|\n",
            "+--------+\n",
            "|      31|\n",
            "+--------+\n",
            "\n"
          ]
        }
      ]
    },
    {
      "cell_type": "code",
      "source": [],
      "metadata": {
        "id": "rmk9rTeropLT"
      },
      "execution_count": null,
      "outputs": []
    }
  ]
}