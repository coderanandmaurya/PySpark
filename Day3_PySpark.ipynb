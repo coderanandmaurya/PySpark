{
  "nbformat": 4,
  "nbformat_minor": 0,
  "metadata": {
    "colab": {
      "provenance": [],
      "authorship_tag": "ABX9TyPcFcYXqukoF4SKAyMp5zOR",
      "include_colab_link": true
    },
    "kernelspec": {
      "name": "python3",
      "display_name": "Python 3"
    },
    "language_info": {
      "name": "python"
    }
  },
  "cells": [
    {
      "cell_type": "markdown",
      "metadata": {
        "id": "view-in-github",
        "colab_type": "text"
      },
      "source": [
        "<a href=\"https://colab.research.google.com/github/coderanandmaurya/PySpark/blob/main/Day3_PySpark.ipynb\" target=\"_parent\"><img src=\"https://colab.research.google.com/assets/colab-badge.svg\" alt=\"Open In Colab\"/></a>"
      ]
    },
    {
      "cell_type": "code",
      "execution_count": 1,
      "metadata": {
        "id": "3gZ2pUxJpFUH"
      },
      "outputs": [],
      "source": [
        "from pyspark.sql import SparkSession"
      ]
    },
    {
      "cell_type": "code",
      "source": [
        "ps=SparkSession.builder.appName(\"day3\").getOrCreate()"
      ],
      "metadata": {
        "id": "UnKx2y6kp4DZ"
      },
      "execution_count": 2,
      "outputs": []
    },
    {
      "cell_type": "code",
      "source": [
        "df=ps.read.csv(\"/content/Day3_Spark_Data.csv\",header=True,inferSchema=True)"
      ],
      "metadata": {
        "id": "SA4-H_o_p932"
      },
      "execution_count": 3,
      "outputs": []
    },
    {
      "cell_type": "code",
      "source": [
        "df.show()"
      ],
      "metadata": {
        "colab": {
          "base_uri": "https://localhost:8080/"
        },
        "id": "LXbOFl6gqEOb",
        "outputId": "11305326-ae7d-45a3-eccc-4c5491a8b1b6"
      },
      "execution_count": 4,
      "outputs": [
        {
          "output_type": "stream",
          "name": "stdout",
          "text": [
            "+-----+---+----+---+\n",
            "| NAME| IQ|CGPA|PKG|\n",
            "+-----+---+----+---+\n",
            "|sahil| 85|   9| 10|\n",
            "| aman| 76|   8|  9|\n",
            "|jerry| 66|   6|  6|\n",
            "|raman| 70|   7|  8|\n",
            "|mohan| 68|   5|  6|\n",
            "+-----+---+----+---+\n",
            "\n"
          ]
        }
      ]
    },
    {
      "cell_type": "code",
      "source": [
        "#[IQ,CGPA] # group of var ---> ind feature"
      ],
      "metadata": {
        "id": "mM3JSyvkqWuG"
      },
      "execution_count": 5,
      "outputs": []
    },
    {
      "cell_type": "code",
      "source": [
        "#importing MLlib\n",
        "from pyspark.ml.feature import VectorAssembler\n",
        "ColAssembler=VectorAssembler(inputCols=[\"IQ\",\"CGPA\"],outputCol=\"IQ_CGPA\")"
      ],
      "metadata": {
        "id": "q5c46-wCqF3B"
      },
      "execution_count": 8,
      "outputs": []
    },
    {
      "cell_type": "code",
      "source": [
        "output=ColAssembler.transform(df)"
      ],
      "metadata": {
        "id": "hVaQP61-q4z2"
      },
      "execution_count": 9,
      "outputs": []
    },
    {
      "cell_type": "code",
      "source": [
        "output.columns"
      ],
      "metadata": {
        "colab": {
          "base_uri": "https://localhost:8080/"
        },
        "id": "ObLt4Aw8qkrO",
        "outputId": "03ab2434-5103-4211-e204-ac49f72a8749"
      },
      "execution_count": 11,
      "outputs": [
        {
          "output_type": "execute_result",
          "data": {
            "text/plain": [
              "['NAME', 'IQ', 'CGPA', 'PKG', 'IQ_CGPA']"
            ]
          },
          "metadata": {},
          "execution_count": 11
        }
      ]
    },
    {
      "cell_type": "code",
      "source": [
        "FDF=output.select(\"IQ_CGPA\",\"PKG\")"
      ],
      "metadata": {
        "id": "5yFSGk0Mq0Yc"
      },
      "execution_count": 12,
      "outputs": []
    },
    {
      "cell_type": "code",
      "source": [
        "FDF.show()"
      ],
      "metadata": {
        "colab": {
          "base_uri": "https://localhost:8080/"
        },
        "id": "AhCRAMsErQiP",
        "outputId": "ed248cf9-cd82-4a61-d541-afc06bc93818"
      },
      "execution_count": 13,
      "outputs": [
        {
          "output_type": "stream",
          "name": "stdout",
          "text": [
            "+----------+---+\n",
            "|   IQ_CGPA|PKG|\n",
            "+----------+---+\n",
            "|[85.0,9.0]| 10|\n",
            "|[76.0,8.0]|  9|\n",
            "|[66.0,6.0]|  6|\n",
            "|[70.0,7.0]|  8|\n",
            "|[68.0,5.0]|  6|\n",
            "+----------+---+\n",
            "\n"
          ]
        }
      ]
    },
    {
      "cell_type": "code",
      "source": [
        "# import linera reg and split method\n",
        "from pyspark.ml.regression import LinearRegression\n",
        "from pyspark.ml.evaluation import RegressionEvaluator\n",
        "train_data,test_data=FDF.randomSplit([0.6,0.4])"
      ],
      "metadata": {
        "id": "GIccBhcrrSLt"
      },
      "execution_count": 31,
      "outputs": []
    },
    {
      "cell_type": "code",
      "source": [
        "REG=LinearRegression(featuresCol=\"IQ_CGPA\",labelCol=\"PKG\")"
      ],
      "metadata": {
        "id": "tDv1Pgj6rlKP"
      },
      "execution_count": 32,
      "outputs": []
    },
    {
      "cell_type": "code",
      "source": [
        "REG=REG.fit(train_data)"
      ],
      "metadata": {
        "id": "YOWuOlhnrpZm"
      },
      "execution_count": 33,
      "outputs": []
    },
    {
      "cell_type": "code",
      "source": [
        "# coefficient\n",
        "REG.coefficients"
      ],
      "metadata": {
        "colab": {
          "base_uri": "https://localhost:8080/"
        },
        "id": "LWWmncGArrTv",
        "outputId": "e9a7bce6-ad8b-46fd-a94a-572e5f571541"
      },
      "execution_count": 34,
      "outputs": [
        {
          "output_type": "execute_result",
          "data": {
            "text/plain": [
              "DenseVector([0.0, 1.0])"
            ]
          },
          "metadata": {},
          "execution_count": 34
        }
      ]
    },
    {
      "cell_type": "code",
      "source": [
        "# Intercept\n",
        "REG.intercept"
      ],
      "metadata": {
        "colab": {
          "base_uri": "https://localhost:8080/"
        },
        "id": "n9e_7MhPrwUi",
        "outputId": "9f589471-3017-427b-8a7e-5a903032b955"
      },
      "execution_count": 35,
      "outputs": [
        {
          "output_type": "execute_result",
          "data": {
            "text/plain": [
              "0.999999999998722"
            ]
          },
          "metadata": {},
          "execution_count": 35
        }
      ]
    },
    {
      "cell_type": "code",
      "source": [
        "# predict from test data\n",
        "pred=REG.evaluate(test_data)"
      ],
      "metadata": {
        "id": "5S8jA1wEr5Yy"
      },
      "execution_count": 36,
      "outputs": []
    },
    {
      "cell_type": "code",
      "source": [
        "pred.predictions.show()"
      ],
      "metadata": {
        "colab": {
          "base_uri": "https://localhost:8080/"
        },
        "id": "73foWIGHsP5P",
        "outputId": "b83dcd0d-6427-455a-8959-165055ef013a"
      },
      "execution_count": 37,
      "outputs": [
        {
          "output_type": "stream",
          "name": "stdout",
          "text": [
            "+----------+---+-----------------+\n",
            "|   IQ_CGPA|PKG|       prediction|\n",
            "+----------+---+-----------------+\n",
            "|[66.0,6.0]|  6| 6.99999999999988|\n",
            "|[76.0,8.0]|  9|8.999999999999925|\n",
            "+----------+---+-----------------+\n",
            "\n"
          ]
        }
      ]
    },
    {
      "cell_type": "code",
      "source": [
        "pred.meanAbsoluteError,pred.meanSquaredError"
      ],
      "metadata": {
        "colab": {
          "base_uri": "https://localhost:8080/"
        },
        "id": "U24_7vT4seQ2",
        "outputId": "9f3d37b1-0e6a-40eb-c925-90a33e38559f"
      },
      "execution_count": 38,
      "outputs": [
        {
          "output_type": "execute_result",
          "data": {
            "text/plain": [
              "(0.49999999999997735, 0.4999999999998801)"
            ]
          },
          "metadata": {},
          "execution_count": 38
        }
      ]
    },
    {
      "cell_type": "code",
      "source": [],
      "metadata": {
        "id": "sG_uEeypspjn"
      },
      "execution_count": null,
      "outputs": []
    }
  ]
}